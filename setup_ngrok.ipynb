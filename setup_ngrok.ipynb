{
 "cells": [
  {
   "cell_type": "code",
   "execution_count": null,
   "metadata": {},
   "outputs": [],
   "source": [
    "\n",
    "!pip install --upgrade --no-cache-dir gdown\n",
    "!pip install rembg[gpu]"
   ]
  },
  {
   "cell_type": "code",
   "execution_count": null,
   "metadata": {},
   "outputs": [],
   "source": [
    "\n",
    "! wget -c \"https://github.com/Kitware/CMake/releases/download/v3.19.6/cmake-3.19.6.tar.gz\"\n",
    "! tar xf cmake-3.19.6.tar.gz\n",
    "! cd cmake-3.19.6 && ./configure && make && sudo make install\n",
    "     "
   ]
  },
  {
   "cell_type": "code",
   "execution_count": null,
   "metadata": {},
   "outputs": [],
   "source": [
    "\n",
    "# Install library\n",
    "! sudo apt-get --assume-yes update\n",
    "! sudo apt-get --assume-yes install build-essential\n",
    "# OpenCV\n",
    "! sudo apt-get --assume-yes install libopencv-dev\n",
    "# General dependencies\n",
    "! sudo apt-get --assume-yes install libatlas-base-dev libprotobuf-dev libleveldb-dev libsnappy-dev libhdf5-serial-dev protobuf-compiler\n",
    "! sudo apt-get --assume-yes install --no-install-recommends libboost-all-dev\n",
    "# Remaining dependencies, 14.04\n",
    "! sudo apt-get --assume-yes install libgflags-dev libgoogle-glog-dev liblmdb-dev\n",
    "# Python3 libs\n",
    "! sudo apt-get --assume-yes install python3-setuptools python3-dev build-essential\n",
    "! sudo apt-get --assume-yes install python3-pip\n",
    "! sudo -H pip3 install --upgrade numpy protobuf opencv-python\n",
    "# OpenCL Generic\n",
    "! sudo apt-get --assume-yes install opencl-headers ocl-icd-opencl-dev\n",
    "! sudo apt-get --assume-yes install libviennacl-dev"
   ]
  },
  {
   "cell_type": "code",
   "execution_count": null,
   "metadata": {},
   "outputs": [],
   "source": [
    "\n",
    "ver_openpose = \"v1.7.0\"\n",
    "! echo $ver_openpose"
   ]
  },
  {
   "cell_type": "code",
   "execution_count": null,
   "metadata": {},
   "outputs": [],
   "source": [
    "\n",
    "# manually downloading openpose models\n",
    "%%bash\n",
    "gdown 1QCSxJZpnWvM00hx49CJ2zky7PWGzpcEh\n",
    "unzip models.zip\n",
    "mv /content/models/face/pose_iter_116000.caffemodel /content/openpose/models/face/pose_iter_116000.caffemodel\n",
    "mv /content/models/hand/pose_iter_102000.caffemodel /content/openpose/models/hand/pose_iter_102000.caffemodel\n",
    "mv /content/models/pose/body_25/pose_iter_584000.caffemodel /content/openpose/models/pose/body_25/pose_iter_584000.caffemodel\n",
    "mv /content/models/pose/coco/pose_iter_440000.caffemodel /content/openpose/models/pose/coco/pose_iter_440000.caffemodel\n",
    "mv /content/models/pose/mpi/pose_iter_160000.caffemodel /content/openpose/models/pose/mpi/pose_iter_160000.caffemodel\n",
    "rm -rf models\n",
    "rm models.zip"
   ]
  },
  {
   "cell_type": "code",
   "execution_count": null,
   "metadata": {},
   "outputs": [],
   "source": [
    "\n",
    "! cd openpose && mkdir build && cd build"
   ]
  },
  {
   "cell_type": "code",
   "execution_count": null,
   "metadata": {},
   "outputs": [],
   "source": [
    "! git clone  --depth 1 -b \"$ver_openpose\" https://github.com/CMU-Perceptual-Computing-Lab/openpose.git"
   ]
  },
  {
   "cell_type": "code",
   "execution_count": null,
   "metadata": {},
   "outputs": [],
   "source": [
    "\n",
    "! cd openpose/build && cmake -DUSE_CUDNN=OFF -DBUILD_PYTHON=ON "
   ]
  },
  {
   "cell_type": "code",
   "execution_count": null,
   "metadata": {},
   "outputs": [],
   "source": [
    "\n",
    "! cd openpose/build && make -j`nproc`\n",
    "! cd openpose && mkdir output"
   ]
  },
  {
   "cell_type": "code",
   "execution_count": null,
   "metadata": {},
   "outputs": [],
   "source": [
    "\n",
    "!pip install flask-ngrok\n",
    "!pip install pyngrok==4.1.1\n",
    "!ngrok authtoken "
   ]
  },
  {
   "cell_type": "code",
   "execution_count": null,
   "metadata": {},
   "outputs": [],
   "source": [
    "\n",
    "import os\n",
    "%cd /content/\n",
    "!rm -rf clothes-virtual-try-on\n",
    "!git clone https://github.com/practice404/clothes-virtual-try-on.git\n",
    "os.makedirs(\"/content/clothes-virtual-try-on/checkpoints\")\n",
    "     "
   ]
  },
  {
   "cell_type": "code",
   "execution_count": null,
   "metadata": {},
   "outputs": [],
   "source": [
    "!gdown --id 18q4lS7cNt1_X8ewCgya1fq0dSk93jTL6 --output /content/clothes-virtual-try-on/checkpoints/alias_final.pth\n",
    "!gdown --id 1uDRPY8gh9sHb3UDonq6ZrINqDOd7pmTz --output /content/clothes-virtual-try-on/checkpoints/gmm_final.pth\n",
    "!gdown --id 1d7lZNLh51Qt5Mi1lXqyi6Asb2ncLrEdC --output /content/clothes-virtual-try-on/checkpoints/seg_final.pth\n",
    "     "
   ]
  },
  {
   "cell_type": "code",
   "execution_count": null,
   "metadata": {},
   "outputs": [],
   "source": [
    "!gdown --id 1ysEoAJNxou7RNuT9iKOxRhjVRNY5RLjx --output /content/clothes-virtual-try-on/cloth_segm_u2net_latest.pth --no-cookies\n",
    "     "
   ]
  },
  {
   "cell_type": "code",
   "execution_count": null,
   "metadata": {},
   "outputs": [],
   "source": [
    "\n",
    "%cd /content/\n",
    "!pip install ninja\n",
    "     "
   ]
  },
  {
   "cell_type": "code",
   "execution_count": null,
   "metadata": {},
   "outputs": [],
   "source": [
    "\n",
    "!git clone https://github.com/PeikeLi/Self-Correction-Human-Parsing\n",
    "%cd Self-Correction-Human-Parsing\n",
    "!mkdir checkpoints\n",
    "     "
   ]
  },
  {
   "cell_type": "code",
   "execution_count": null,
   "metadata": {},
   "outputs": [],
   "source": [
    "\n",
    "%cd /content/"
   ]
  },
  {
   "cell_type": "code",
   "execution_count": null,
   "metadata": {},
   "outputs": [],
   "source": [
    "\n",
    "%%bash\n",
    "MINICONDA_INSTALLER_SCRIPT=Miniconda3-4.5.4-Linux-x86_64.sh\n",
    "MINICONDA_PREFIX=/usr/local\n",
    "wget https://repo.continuum.io/miniconda/\n",
    "MINICONDA_INSTALLER_SCRIPT\n",
    "./\n",
    "MINICONDA_PREFIX\n",
    "conda install --channel defaults conda python=3.8 --yes\n",
    "conda update --channel defaults --all --yes"
   ]
  },
  {
   "cell_type": "code",
   "execution_count": null,
   "metadata": {},
   "outputs": [],
   "source": [
    "\n",
    "\n",
    "import sys\n",
    "_ = (sys.path\n",
    "        .append(\"/usr/local/lib/python3.6/site-packages\"))\n",
    "     "
   ]
  },
  {
   "cell_type": "code",
   "execution_count": null,
   "metadata": {},
   "outputs": [],
   "source": [
    "\n",
    "!pip install torchvision\n",
    "     "
   ]
  },
  {
   "cell_type": "code",
   "execution_count": null,
   "metadata": {},
   "outputs": [],
   "source": [
    "def make_dir():\n",
    "  os.system(\"cd /content/ && mkdir inputs && cd inputs && mkdir test && cd test && mkdir cloth cloth-mask image image-parse openpose-img openpose-json\")\n",
    "     "
   ]
  },
  {
   "cell_type": "code",
   "execution_count": null,
   "metadata": {},
   "outputs": [],
   "source": [
    "\n",
    "from flask import Flask, request, send_file, jsonify\n",
    "from flask_ngrok import run_with_ngrok\n",
    "from PIL import Image\n",
    "import base64\n",
    "import io\n",
    "\n",
    "app = Flask(__name__)\n",
    "run_with_ngrok(app)\n",
    "\n",
    "@app.route(\"/\")\n",
    "def home():\n",
    "  return jsonify(\"hello world\");\n",
    "\n",
    "@app.route(\"/api/transform\", methods=['POST'])\n",
    "def begin():\n",
    "  make_dir()\n",
    "  print(\"data recieved\")\n",
    "  cloth = request.files['cloth']\n",
    "  model = request.files['model']\n",
    "\n",
    "  cloth = Image.open(cloth.stream)\n",
    "  model = Image.open(model.stream)\n",
    "\n",
    "  cloth.save(\"/content/inputs/test/cloth/cloth.jpg\")\n",
    "  model.save(\"/content/inputs/test/image/model.jpg\")\n",
    "\n",
    "  # running script to compute the predictions\n",
    "  os.system(\"python /content/clothes-virtual-try-on/run.py\")\n",
    "\n",
    "  # loading output\n",
    "  op = os.listdir(\"/content/output\")[0]\n",
    "  op = Image.open(f\"/content/output/{op}\")\n",
    "  buffer = io.BytesIO()\n",
    "  op.save(buffer, 'png')\n",
    "  buffer.seek(0)\n",
    "  os.system(\"rm -rf /content/output/\")\n",
    "  return send_file(buffer, mimetype='image/gif')"
   ]
  },
  {
   "cell_type": "code",
   "execution_count": null,
   "metadata": {},
   "outputs": [],
   "source": [
    "\n",
    "if __name__ == '__main__':\n",
    "    app.run()"
   ]
  },
  {
   "cell_type": "code",
   "execution_count": null,
   "metadata": {},
   "outputs": [],
   "source": [
    "\n",
    "!conda install --channel conda-forge featuretools --yes"
   ]
  },
  {
   "cell_type": "code",
   "execution_count": null,
   "metadata": {},
   "outputs": [],
   "source": [
    "\n",
    "!pip install opencv-python torchgeometry"
   ]
  }
 ],
 "metadata": {
  "language_info": {
   "name": "python"
  }
 },
 "nbformat": 4,
 "nbformat_minor": 2
}
