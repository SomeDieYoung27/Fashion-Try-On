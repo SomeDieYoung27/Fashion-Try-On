{
 "cells": [
  {
   "cell_type": "code",
   "execution_count": null,
   "metadata": {},
   "outputs": [],
   "source": [
    "\n",
    "!pip install --upgrade --no-cache-dir gdown\n",
    "!pip install rembg[gpu] gradio==3.45.0"
   ]
  },
  {
   "cell_type": "code",
   "execution_count": null,
   "metadata": {},
   "outputs": [],
   "source": [
    "\n",
    "! cd openpose/build && make -j`nproc`\n",
    "! cd openpose && mkdir output"
   ]
  },
  {
   "cell_type": "code",
   "execution_count": null,
   "metadata": {},
   "outputs": [],
   "source": [
    "# downloading LIP dataset model\n",
    "!gdown --id 1k4dllHpu0bdx38J7H28rVVLpU-kOHmnH\n",
    "!mv /content/Self-Correction-Human-Parsing/exp-schp-201908261155-lip.pth /content/Self-Correction-Human-Parsing/checkpoints/final.pth\n",
    "     "
   ]
  },
  {
   "cell_type": "code",
   "execution_count": null,
   "metadata": {},
   "outputs": [],
   "source": [
    "\n",
    "%cd /content/"
   ]
  },
  {
   "cell_type": "code",
   "execution_count": null,
   "metadata": {},
   "outputs": [],
   "source": [
    "\n",
    "%%bash\n",
    "MINICONDA_INSTALLER_SCRIPT=Miniconda3-latest-Linux-x86_64.sh\n",
    "MINICONDA_PREFIX=/usr/local\n",
    "wget https://repo.continuum.io/miniconda/\n",
    "MINICONDA_INSTALLER_SCRIPT\n",
    "./\n",
    "MINICONDA_PREFIX\n",
    "conda install --channel defaults conda python=3.8 --yes\n",
    "conda update --channel defaults --all --yes"
   ]
  },
  {
   "cell_type": "code",
   "execution_count": null,
   "metadata": {},
   "outputs": [],
   "source": [
    "\n",
    "import sys\n",
    "_ = (sys.path\n",
    "        .append(\"/usr/local/lib/python3.6/site-packages\"))"
   ]
  },
  {
   "cell_type": "code",
   "execution_count": null,
   "metadata": {},
   "outputs": [],
   "source": [
    "\n",
    "\n",
    "!conda install --channel conda-forge featuretools --yes"
   ]
  },
  {
   "cell_type": "code",
   "execution_count": null,
   "metadata": {},
   "outputs": [],
   "source": [
    "def make_dir():\n",
    "  os.system(\"cd /content/ && mkdir inputs && cd inputs && mkdir test && cd test && mkdir cloth cloth-mask image image-parse openpose-img openpose-json\")\n",
    "     "
   ]
  },
  {
   "cell_type": "code",
   "execution_count": null,
   "metadata": {},
   "outputs": [],
   "source": [
    "\n",
    "\n",
    "from PIL import Image\n",
    "\n",
    "def run(cloth, model):\n",
    "  make_dir()\n",
    "  cloth.save(\"/content/inputs/test/cloth/cloth.jpg\")\n",
    "  model.save(\"/content/inputs/test/image/model.jpg\")\n",
    "\n",
    "  # running script to compute the predictions\n",
    "  os.system(\"rm -rf /content/output/\")\n",
    "  os.system(\"python /content/clothes-virtual-try-on/run.py\")\n",
    "\n",
    "  # loading output\n",
    "  op = os.listdir(\"/content/output\")[0]\n",
    "  op = Image.open(f\"/content/output/{op}\")\n",
    "  return op\n",
    "     "
   ]
  },
  {
   "cell_type": "code",
   "execution_count": null,
   "metadata": {},
   "outputs": [],
   "source": [
    "import gradio as gr\n",
    "\n",
    "with gr.Blocks() as app:\n",
    "    with gr.Row():\n",
    "        gr.Markdown(\" Clothes Virtual Try ON \")\n",
    "    with gr.Row():\n",
    "        with gr.Column():\n",
    "            cloth_input = gr.Image(sources=['upload'], type=\"pil\", label=\"Upload the Cloth Image\")\n",
    "        with gr.Column():\n",
    "            model_input = gr.Image(sources=['upload'], type=\"pil\", label=\"Upload the Human Image\")\n",
    "    with gr.Row():\n",
    "        final_output = gr.Image(sources=['upload'], type=\"pil\", label=\"Final Prediction\")\n",
    "    with gr.Row():\n",
    "        submit_button = gr.Button(\"Submit\")\n",
    "\n",
    "    submit_button.click(fn=run, inputs=[cloth_input, model_input],\n",
    "                        outputs=[final_output])\n",
    "app.launch(debug=True, share=True)\n",
    "     "
   ]
  },
  {
   "cell_type": "code",
   "execution_count": null,
   "metadata": {},
   "outputs": [],
   "source": []
  }
 ],
 "metadata": {
  "kernelspec": {
   "display_name": "Python 3",
   "language": "python",
   "name": "python3"
  },
  "language_info": {
   "name": "python",
   "version": "3.12.1"
  }
 },
 "nbformat": 4,
 "nbformat_minor": 2
}
